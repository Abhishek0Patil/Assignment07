{
 "cells": [
  {
   "cell_type": "code",
   "execution_count": 1,
   "id": "19e3636f-2527-4594-a222-e8dde2356b98",
   "metadata": {},
   "outputs": [],
   "source": [
    "class vehicle :\n",
    "    \n",
    "    def __init__(self,name_of_vehicle, max_speed,average_of_vehicle) :\n",
    "        self.name_of_vehicle = name_of_vehicle\n",
    "        self.max_speed = max_speed\n",
    "        self.average_of_vehicle = average_of_vehicle\n",
    "        \n",
    "    def return_input(self) :\n",
    "        return self.name_of_vehicle, self.max_speed,self.average_of_vehicle"
   ]
  },
  {
   "cell_type": "code",
   "execution_count": 2,
   "id": "6a1f0bb7-5b51-40ad-9178-558b4a01d2e5",
   "metadata": {},
   "outputs": [],
   "source": [
    "gaddi=vehicle(\"toyota supra\",\"200km/hr\",\"10km/l\")"
   ]
  },
  {
   "cell_type": "code",
   "execution_count": 4,
   "id": "7b0a1322-e30b-4cc0-b141-c102a63520cb",
   "metadata": {},
   "outputs": [
    {
     "data": {
      "text/plain": [
       "('toyota supra', '200km/hr', '10km/l')"
      ]
     },
     "execution_count": 4,
     "metadata": {},
     "output_type": "execute_result"
    }
   ],
   "source": [
    "gaddi.return_input()"
   ]
  },
  {
   "cell_type": "code",
   "execution_count": 34,
   "id": "5aa8ae24-241b-427e-af67-b957c4444374",
   "metadata": {},
   "outputs": [],
   "source": [
    "class vehicle :\n",
    "    def __init__(self,name) :\n",
    "        self.name=name\n",
    "    \n",
    "class car(vehicle):\n",
    "    \n",
    "    def __init__(self,name) :\n",
    "        super().__init__(name)\n",
    "    \n",
    "    @classmethod\n",
    "    def seating_capacity(cls,seat) :\n",
    "        car.seat=seat\n",
    "        \n",
    "    def display_info(self):\n",
    "        print(self.name,car.seat)"
   ]
  },
  {
   "cell_type": "code",
   "execution_count": 38,
   "id": "c02a86e2-6666-4e3b-b497-ce93fb5551b7",
   "metadata": {},
   "outputs": [],
   "source": [
    "abc=car(\"toyota fortuner\")"
   ]
  },
  {
   "cell_type": "code",
   "execution_count": 41,
   "id": "7a51ce86-8fa0-427a-8505-7d1dd06b1613",
   "metadata": {},
   "outputs": [],
   "source": [
    "abc.seating_capacity(\"7\")"
   ]
  },
  {
   "cell_type": "code",
   "execution_count": 42,
   "id": "b5fec6c2-8fde-437b-97d4-85bc12ccc524",
   "metadata": {},
   "outputs": [
    {
     "name": "stdout",
     "output_type": "stream",
     "text": [
      "toyota fortuner 7\n"
     ]
    }
   ],
   "source": [
    "abc.display_info()"
   ]
  },
  {
   "cell_type": "markdown",
   "id": "53b1060b-9482-4820-9ea4-a94c6a577f54",
   "metadata": {},
   "source": [
    "A class can be derived from more than one superclass in Python. This is called multiple inheritance."
   ]
  },
  {
   "cell_type": "code",
   "execution_count": 51,
   "id": "56cf6039-210f-4577-8dfd-4f1ed9f722c9",
   "metadata": {},
   "outputs": [],
   "source": [
    "class class1():\n",
    "    def test1(self):\n",
    "        return \"this is class1\"\n",
    "    \n",
    "class class2():\n",
    "    def test2(self):\n",
    "        return \"this is class2\"\n",
    "    \n",
    "class class3(class1,class2) :\n",
    "    pass"
   ]
  },
  {
   "cell_type": "code",
   "execution_count": 52,
   "id": "88105f42-e3f2-421f-a608-a17181d1b151",
   "metadata": {},
   "outputs": [],
   "source": [
    "class_obj=class3()"
   ]
  },
  {
   "cell_type": "code",
   "execution_count": 53,
   "id": "f2453523-07c9-49bc-902e-da7d2faf05d0",
   "metadata": {},
   "outputs": [
    {
     "data": {
      "text/plain": [
       "'this is class1'"
      ]
     },
     "execution_count": 53,
     "metadata": {},
     "output_type": "execute_result"
    }
   ],
   "source": [
    "class_obj.test1()"
   ]
  },
  {
   "cell_type": "code",
   "execution_count": 54,
   "id": "c112cda9-8685-4cab-8634-83e2c4da2b97",
   "metadata": {},
   "outputs": [
    {
     "data": {
      "text/plain": [
       "'this is class2'"
      ]
     },
     "execution_count": 54,
     "metadata": {},
     "output_type": "execute_result"
    }
   ],
   "source": [
    "class_obj.test2()"
   ]
  },
  {
   "cell_type": "markdown",
   "id": "01f539a0-e876-41d7-a508-eb8c73e88236",
   "metadata": {},
   "source": [
    "We use getters & setters to add validation logic around getting and setting a value."
   ]
  },
  {
   "cell_type": "code",
   "execution_count": 55,
   "id": "a121497c-8537-4ba4-a065-ab5406faa587",
   "metadata": {},
   "outputs": [],
   "source": [
    "class pwskills :\n",
    "    \n",
    "    def __init__(self , course_price , course_name):\n",
    "        \n",
    "        self.__course_price=course_price\n",
    "        self.course_name=course_name\n",
    "        \n",
    "    @property\n",
    "    def course_price_access(self) :\n",
    "        \n",
    "        return self.__course_price\n",
    "    \n",
    "    @course_price_access.setter\n",
    "    def course_price_set(self ,price) :\n",
    "        if price <= 3500 :\n",
    "            pass\n",
    "        else :\n",
    "            self.__course_price = price\n",
    "     \n",
    "    @course_price_access.deleter\n",
    "    def delete_course_price(self) :\n",
    "        del self.__course_price"
   ]
  },
  {
   "cell_type": "code",
   "execution_count": 58,
   "id": "86a234a6-543f-4d0e-9071-a77769fdb90b",
   "metadata": {},
   "outputs": [],
   "source": [
    "efg=pwskills(2500,\"data science\")"
   ]
  },
  {
   "cell_type": "code",
   "execution_count": 59,
   "id": "9eedf707-86d5-450d-9afd-abc2c557bb63",
   "metadata": {},
   "outputs": [
    {
     "data": {
      "text/plain": [
       "2500"
      ]
     },
     "execution_count": 59,
     "metadata": {},
     "output_type": "execute_result"
    }
   ],
   "source": [
    "efg.course_price_access"
   ]
  },
  {
   "cell_type": "code",
   "execution_count": 60,
   "id": "a8f76508-1ae4-4dc0-99ad-689620e6b78e",
   "metadata": {},
   "outputs": [
    {
     "data": {
      "text/plain": [
       "2500"
      ]
     },
     "execution_count": 60,
     "metadata": {},
     "output_type": "execute_result"
    }
   ],
   "source": [
    "efg.course_price_set"
   ]
  },
  {
   "cell_type": "markdown",
   "id": "33393845-7bdc-4fea-8980-8b4e740fc432",
   "metadata": {},
   "source": [
    "Method overriding is an ability of any object-oriented programming language that allows a subclass or child class to provide a specific implementation of a method that is already provided by one of its super-classes or parent classes"
   ]
  },
  {
   "cell_type": "code",
   "execution_count": 61,
   "id": "caa8518f-4659-4c5f-86d9-f9a33d0e7da9",
   "metadata": {},
   "outputs": [
    {
     "name": "stdout",
     "output_type": "stream",
     "text": [
      "Inside Parent\n",
      "Inside Child\n"
     ]
    }
   ],
   "source": [
    "class Parent():\n",
    "    \n",
    "    def __init__(self):\n",
    "        self.value = \"Inside Parent\"\n",
    "          \n",
    "    def show(self):\n",
    "        print(self.value)\n",
    "          \n",
    "class Child(Parent):\n",
    "      \n",
    "    def __init__(self):\n",
    "        self.value = \"Inside Child\"\n",
    "        \n",
    "    def show(self):\n",
    "        print(self.value)\n",
    "          \n",
    "obj1 = Parent()\n",
    "obj2 = Child()\n",
    "  \n",
    "obj1.show()\n",
    "obj2.show()"
   ]
  },
  {
   "cell_type": "code",
   "execution_count": null,
   "id": "4e64db3f-7a6f-40db-96f4-8b2bf25eadc5",
   "metadata": {},
   "outputs": [],
   "source": []
  }
 ],
 "metadata": {
  "kernelspec": {
   "display_name": "Python 3 (ipykernel)",
   "language": "python",
   "name": "python3"
  },
  "language_info": {
   "codemirror_mode": {
    "name": "ipython",
    "version": 3
   },
   "file_extension": ".py",
   "mimetype": "text/x-python",
   "name": "python",
   "nbconvert_exporter": "python",
   "pygments_lexer": "ipython3",
   "version": "3.10.8"
  }
 },
 "nbformat": 4,
 "nbformat_minor": 5
}
